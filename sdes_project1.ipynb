{
 "cells": [
  {
   "cell_type": "code",
   "execution_count": 114,
   "metadata": {
    "collapsed": false
   },
   "outputs": [],
   "source": [
    "import numpy as np\n",
    "import matplotlib.pyplot as plt\n",
    "import matplotlib.animation as my_anim"
   ]
  },
  {
   "cell_type": "code",
   "execution_count": 115,
   "metadata": {
    "collapsed": true
   },
   "outputs": [],
   "source": [
    "def second_order_solver(m, c, l, pos_0, vel_0, tf, dt=0.1):\n",
    "    s1 = 0.5 * (-c/m + np.sqrt((c/m)**2 - 4.0*g/l + 0.0j))\n",
    "    s2 = 0.5 * (-c/m - np.sqrt((c/m)**2 - 4.0*g/l + 0.0j))\n",
    "    a1 = (vel_0 - s2*pos_0)/(s1 - s2)\n",
    "    a2 = (s1*pos_0 - vel_0)/(s1 - s2)\n",
    "    t = 0.0\n",
    "    time = [t]\n",
    "    pos_array = [pos_0]\n",
    "    vel_array = [vel_0]\n",
    "    \n",
    "    while (t<tf):\n",
    "        pos = a1*np.exp(s1*t) + a2*np.exp(s2*t)\n",
    "        vel = a1*s1*np.exp(s1*t) + a2*s2*np.exp(s2*t)\n",
    "        pos_array.append(pos)\n",
    "        vel_array.append(vel)\n",
    "        t += dt\n",
    "        time.append(t)\n",
    "    return time, pos_array, vel_array\n",
    "    "
   ]
  },
  {
   "cell_type": "code",
   "execution_count": 116,
   "metadata": {
    "collapsed": true
   },
   "outputs": [],
   "source": [
    "def pendulum_pos(theta, length):\n",
    "    r_bob = 0.1\n",
    "    l = np.linspace(0, length-r_bob, 41)\n",
    "    string = l*np.exp(1.0j*(theta - np.pi/2.0))\n",
    "    phi = np.linspace(0.5*np.pi, 2.5*np.pi, 31)\n",
    "    bob = length*np.exp(1.0j*(theta - np.pi/2.0)) + r_bob*np.exp(1.0j*phi)\n",
    "    return np.concatenate([string, bob])"
   ]
  },
  {
   "cell_type": "code",
   "execution_count": 117,
   "metadata": {
    "collapsed": false
   },
   "outputs": [],
   "source": [
    "def plot(X, Y, x_name='time (s)', y_name='position', name='position_vs_time'):\n",
    "    plt.figure()\n",
    "    plt.plot(X,Y)\n",
    "    plt.xlabel(x_name)\n",
    "    plt.ylabel(y_name)\n",
    "    plt.title(name)\n",
    "    plt.savefig(name+'.png')\n",
    "    plt.grid()\n",
    "    #plt.show()\n",
    "    return 0"
   ]
  },
  {
   "cell_type": "code",
   "execution_count": 118,
   "metadata": {
    "collapsed": true
   },
   "outputs": [],
   "source": [
    "def animator(X,Y):\n",
    "    fig = plt.figure()\n",
    "    ax = plt.axes(xlim=(1.5*np.amin(X), 1.5*np.amax(X)), ylim=(1.5*np.amin(Y), 1.5*np.amax(Y)))\n",
    "    line, = ax.plot([], [], lw=2)\n",
    "    \n",
    "    def init():\n",
    "        line.set_data([],[])\n",
    "        return line,\n",
    "    def animate(i):\n",
    "        x = X[i,:]\n",
    "        y = Y[i,:]\n",
    "        #print x,y\n",
    "        line.set_data(x, y)\n",
    "        return line,\n",
    "    \n",
    "    anim = my_anim.FuncAnimation(fig, animate, init_func=init,\n",
    "                               frames=len(X), interval=10, blit=True)\n",
    "    anim.save('final_anim.mp4', fps=10, extra_args=['-vcodec', 'libx264'])\n",
    "    #plt.show()\n",
    "    return 0"
   ]
  },
  {
   "cell_type": "code",
   "execution_count": 119,
   "metadata": {
    "collapsed": false
   },
   "outputs": [],
   "source": [
    "def simulate(length=1.0, mass=1.0, damping=0.4, pos_init=1.0, vel_init=0.0, t_sim=20.0):\n",
    "    global g\n",
    "    g= 9.8\n",
    "    t, x, v = second_order_solver(mass, damping, length, pos_init, vel_init, t_sim)\n",
    "    plot(t, x, y_name='position (m)', name='Angular_Position_vs_time')\n",
    "    plot(t, v, y_name='velocity(m)', name='Angular_Velocity_vs_time')\n",
    "    pen = (1.0+1.0j)*np.zeros((len(x), 72))\n",
    "    #print pendulum_pos(x[0],length)\n",
    "    for i,angle in enumerate(x):\n",
    "        pen[i,:] = pendulum_pos(angle,length)\n",
    "    #print len(pen)\n",
    "    animator(pen.real, pen.imag)\n",
    "    return 0"
   ]
  },
  {
   "cell_type": "code",
   "execution_count": 120,
   "metadata": {
    "collapsed": false
   },
   "outputs": [],
   "source": [
    "if __name__==\"__main__\":\n",
    "    simulate()"
   ]
  },
  {
   "cell_type": "code",
   "execution_count": null,
   "metadata": {
    "collapsed": true
   },
   "outputs": [],
   "source": []
  }
 ],
 "metadata": {
  "kernelspec": {
   "display_name": "Python 2",
   "language": "python",
   "name": "python2"
  },
  "language_info": {
   "codemirror_mode": {
    "name": "ipython",
    "version": 2
   },
   "file_extension": ".py",
   "mimetype": "text/x-python",
   "name": "python",
   "nbconvert_exporter": "python",
   "pygments_lexer": "ipython2",
   "version": "2.7.6"
  }
 },
 "nbformat": 4,
 "nbformat_minor": 1
}
